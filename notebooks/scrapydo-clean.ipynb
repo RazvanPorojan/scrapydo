{
  "nbformat": 4,
  "nbformat_minor": 0,
  "metadata": {
    "colab": {
      "name": "scrapydo-overview.ipynb",
      "version": "0.3.2",
      "provenance": [],
      "include_colab_link": true
    },
    "kernelspec": {
      "name": "python3",
      "display_name": "Python 3"
    }
  },
  "cells": [
    {
      "cell_type": "markdown",
      "metadata": {
        "id": "view-in-github",
        "colab_type": "text"
      },
      "source": [
        "<a href=\"https://colab.research.google.com/github/RazvanPorojan/scrapydo/blob/master/notebooks/scrapydo-clean.ipynb\" target=\"_parent\"><img src=\"https://colab.research.google.com/assets/colab-badge.svg\" alt=\"Open In Colab\"/></a>"
      ]
    },
    {
      "metadata": {
        "id": "Xsz2iouc0I7f",
        "colab_type": "text"
      },
      "cell_type": "markdown",
      "source": [
        "# ScrapyDo Overview"
      ]
    },
    {
      "metadata": {
        "id": "AcqDOGpn0I7l",
        "colab_type": "text"
      },
      "cell_type": "markdown",
      "source": [
        "[ScrapyDo](https://github.com/darkrho/scrapydo) is a [crochet](https://github.com/itamarst/crochet)-based blocking API for [Scrapy](http://scrapy.org). It allows the usage of Scrapy as a library, mainly aimed to be used in spiders prototyping and data exploration in [IPython notebooks](http://ipython.org/notebook.html)."
      ]
    },
    {
      "metadata": {
        "id": "8tNpTuYi0I7n",
        "colab_type": "text"
      },
      "cell_type": "markdown",
      "source": [
        "In this notebook we are going to show how to use `scrapydo` and how it helps to rapidly crawl and explore data. Our main premise is that we want to crawl the internet as a mean to analysis data and not as an end."
      ]
    },
    {
      "metadata": {
        "id": "XA2CSJU90I7q",
        "colab_type": "text"
      },
      "cell_type": "markdown",
      "source": [
        "## Initialization"
      ]
    },
    {
      "metadata": {
        "id": "QiHR46h00I7s",
        "colab_type": "text"
      },
      "cell_type": "markdown",
      "source": [
        "The function `setup` must be called before any call to other functions."
      ]
    },
    {
      "metadata": {
        "id": "ASw4VPsx0Qge",
        "colab_type": "code",
        "colab": {}
      },
      "cell_type": "code",
      "source": [
        "!pip install scrapydo"
      ],
      "execution_count": 0,
      "outputs": []
    },
    {
      "metadata": {
        "id": "Isg4UTCJ0I7u",
        "colab_type": "code",
        "colab": {}
      },
      "cell_type": "code",
      "source": [
        "import scrapydo\n",
        "scrapydo.setup()"
      ],
      "execution_count": 0,
      "outputs": []
    },
    {
      "metadata": {
        "id": "xnv5mKU30I73",
        "colab_type": "text"
      },
      "cell_type": "markdown",
      "source": [
        "## The `fetch` function and highlight helper"
      ]
    },
    {
      "metadata": {
        "id": "ogf7iC400I75",
        "colab_type": "text"
      },
      "cell_type": "markdown",
      "source": [
        "The `fetch` function returns a `scrapy.Response` object for a given URL."
      ]
    },
    {
      "metadata": {
        "id": "ghhZRKoF0I77",
        "colab_type": "code",
        "colab": {
          "base_uri": "https://localhost:8080/",
          "height": 34
        },
        "outputId": "029fd670-1122-4762-a3a6-21f85a0585d1"
      },
      "cell_type": "code",
      "source": [
        "response = scrapydo.fetch(\"https://www.linkedin.com/in/cairo-cavalcante-53064738/\")\n",
        "response"
      ],
      "execution_count": 7,
      "outputs": [
        {
          "output_type": "execute_result",
          "data": {
            "text/plain": [
              "<999 https://www.linkedin.com/in/cairo-cavalcante-53064738/>"
            ]
          },
          "metadata": {
            "tags": []
          },
          "execution_count": 7
        }
      ]
    }
  ]
}